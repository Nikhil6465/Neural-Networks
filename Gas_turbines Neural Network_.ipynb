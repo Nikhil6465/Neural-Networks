{
 "cells": [
  {
   "cell_type": "code",
   "execution_count": null,
   "metadata": {
    "ExecuteTime": {
     "start_time": "2022-01-03T09:31:50.236Z"
    }
   },
   "outputs": [],
   "source": [
    "import pandas as pd\n",
    "import numpy as np\n",
    "import matplotlib.pyplot as plt\n",
    "import seaborn as sns\n",
    "import keras\n",
    "from sklearn.preprocessing import StandardScaler\n",
    "from keras.models import Sequential \n",
    "from keras.layers import Dense\n",
    "import warnings \n",
    "warnings.filterwarnings(\"ignore\")"
   ]
  },
  {
   "cell_type": "code",
   "execution_count": 2,
   "metadata": {},
   "outputs": [],
   "source": [
    "data = pd.read_csv(\"gas_turbines.csv\")"
   ]
  },
  {
   "cell_type": "code",
   "execution_count": 3,
   "metadata": {},
   "outputs": [
    {
     "data": {
      "text/html": [
       "<div>\n",
       "<style scoped>\n",
       "    .dataframe tbody tr th:only-of-type {\n",
       "        vertical-align: middle;\n",
       "    }\n",
       "\n",
       "    .dataframe tbody tr th {\n",
       "        vertical-align: top;\n",
       "    }\n",
       "\n",
       "    .dataframe thead th {\n",
       "        text-align: right;\n",
       "    }\n",
       "</style>\n",
       "<table border=\"1\" class=\"dataframe\">\n",
       "  <thead>\n",
       "    <tr style=\"text-align: right;\">\n",
       "      <th></th>\n",
       "      <th>AT</th>\n",
       "      <th>AP</th>\n",
       "      <th>AH</th>\n",
       "      <th>AFDP</th>\n",
       "      <th>GTEP</th>\n",
       "      <th>TIT</th>\n",
       "      <th>TAT</th>\n",
       "      <th>TEY</th>\n",
       "      <th>CDP</th>\n",
       "      <th>CO</th>\n",
       "      <th>NOX</th>\n",
       "    </tr>\n",
       "  </thead>\n",
       "  <tbody>\n",
       "    <tr>\n",
       "      <th>0</th>\n",
       "      <td>6.8594</td>\n",
       "      <td>1007.9</td>\n",
       "      <td>96.799</td>\n",
       "      <td>3.5000</td>\n",
       "      <td>19.663</td>\n",
       "      <td>1059.2</td>\n",
       "      <td>550.00</td>\n",
       "      <td>114.70</td>\n",
       "      <td>10.605</td>\n",
       "      <td>3.1547</td>\n",
       "      <td>82.722</td>\n",
       "    </tr>\n",
       "    <tr>\n",
       "      <th>1</th>\n",
       "      <td>6.7850</td>\n",
       "      <td>1008.4</td>\n",
       "      <td>97.118</td>\n",
       "      <td>3.4998</td>\n",
       "      <td>19.728</td>\n",
       "      <td>1059.3</td>\n",
       "      <td>550.00</td>\n",
       "      <td>114.72</td>\n",
       "      <td>10.598</td>\n",
       "      <td>3.2363</td>\n",
       "      <td>82.776</td>\n",
       "    </tr>\n",
       "    <tr>\n",
       "      <th>2</th>\n",
       "      <td>6.8977</td>\n",
       "      <td>1008.8</td>\n",
       "      <td>95.939</td>\n",
       "      <td>3.4824</td>\n",
       "      <td>19.779</td>\n",
       "      <td>1059.4</td>\n",
       "      <td>549.87</td>\n",
       "      <td>114.71</td>\n",
       "      <td>10.601</td>\n",
       "      <td>3.2012</td>\n",
       "      <td>82.468</td>\n",
       "    </tr>\n",
       "  </tbody>\n",
       "</table>\n",
       "</div>"
      ],
      "text/plain": [
       "       AT      AP      AH    AFDP    GTEP     TIT     TAT     TEY     CDP  \\\n",
       "0  6.8594  1007.9  96.799  3.5000  19.663  1059.2  550.00  114.70  10.605   \n",
       "1  6.7850  1008.4  97.118  3.4998  19.728  1059.3  550.00  114.72  10.598   \n",
       "2  6.8977  1008.8  95.939  3.4824  19.779  1059.4  549.87  114.71  10.601   \n",
       "\n",
       "       CO     NOX  \n",
       "0  3.1547  82.722  \n",
       "1  3.2363  82.776  \n",
       "2  3.2012  82.468  "
      ]
     },
     "execution_count": 3,
     "metadata": {},
     "output_type": "execute_result"
    }
   ],
   "source": [
    "data[:3]"
   ]
  },
  {
   "cell_type": "code",
   "execution_count": 4,
   "metadata": {},
   "outputs": [
    {
     "data": {
      "text/plain": [
       "(15039, 11)"
      ]
     },
     "execution_count": 4,
     "metadata": {},
     "output_type": "execute_result"
    }
   ],
   "source": [
    "data.shape"
   ]
  },
  {
   "cell_type": "code",
   "execution_count": 5,
   "metadata": {},
   "outputs": [
    {
     "data": {
      "text/plain": [
       "AT      0\n",
       "AP      0\n",
       "AH      0\n",
       "AFDP    0\n",
       "GTEP    0\n",
       "TIT     0\n",
       "TAT     0\n",
       "TEY     0\n",
       "CDP     0\n",
       "CO      0\n",
       "NOX     0\n",
       "dtype: int64"
      ]
     },
     "execution_count": 5,
     "metadata": {},
     "output_type": "execute_result"
    }
   ],
   "source": [
    "data.isnull().sum()"
   ]
  },
  {
   "cell_type": "code",
   "execution_count": 6,
   "metadata": {},
   "outputs": [
    {
     "name": "stdout",
     "output_type": "stream",
     "text": [
      "<class 'pandas.core.frame.DataFrame'>\n",
      "RangeIndex: 15039 entries, 0 to 15038\n",
      "Data columns (total 11 columns):\n",
      " #   Column  Non-Null Count  Dtype  \n",
      "---  ------  --------------  -----  \n",
      " 0   AT      15039 non-null  float64\n",
      " 1   AP      15039 non-null  float64\n",
      " 2   AH      15039 non-null  float64\n",
      " 3   AFDP    15039 non-null  float64\n",
      " 4   GTEP    15039 non-null  float64\n",
      " 5   TIT     15039 non-null  float64\n",
      " 6   TAT     15039 non-null  float64\n",
      " 7   TEY     15039 non-null  float64\n",
      " 8   CDP     15039 non-null  float64\n",
      " 9   CO      15039 non-null  float64\n",
      " 10  NOX     15039 non-null  float64\n",
      "dtypes: float64(11)\n",
      "memory usage: 1.3 MB\n"
     ]
    }
   ],
   "source": [
    "data.info()"
   ]
  },
  {
   "cell_type": "markdown",
   "metadata": {},
   "source": [
    "### Check and drop the duplicate values"
   ]
  },
  {
   "cell_type": "code",
   "execution_count": 7,
   "metadata": {},
   "outputs": [
    {
     "data": {
      "text/html": [
       "<div>\n",
       "<style scoped>\n",
       "    .dataframe tbody tr th:only-of-type {\n",
       "        vertical-align: middle;\n",
       "    }\n",
       "\n",
       "    .dataframe tbody tr th {\n",
       "        vertical-align: top;\n",
       "    }\n",
       "\n",
       "    .dataframe thead th {\n",
       "        text-align: right;\n",
       "    }\n",
       "</style>\n",
       "<table border=\"1\" class=\"dataframe\">\n",
       "  <thead>\n",
       "    <tr style=\"text-align: right;\">\n",
       "      <th></th>\n",
       "      <th>AT</th>\n",
       "      <th>AP</th>\n",
       "      <th>AH</th>\n",
       "      <th>AFDP</th>\n",
       "      <th>GTEP</th>\n",
       "      <th>TIT</th>\n",
       "      <th>TAT</th>\n",
       "      <th>TEY</th>\n",
       "      <th>CDP</th>\n",
       "      <th>CO</th>\n",
       "      <th>NOX</th>\n",
       "    </tr>\n",
       "  </thead>\n",
       "  <tbody>\n",
       "  </tbody>\n",
       "</table>\n",
       "</div>"
      ],
      "text/plain": [
       "Empty DataFrame\n",
       "Columns: [AT, AP, AH, AFDP, GTEP, TIT, TAT, TEY, CDP, CO, NOX]\n",
       "Index: []"
      ]
     },
     "execution_count": 7,
     "metadata": {},
     "output_type": "execute_result"
    }
   ],
   "source": [
    "data[data.duplicated()]"
   ]
  },
  {
   "cell_type": "markdown",
   "metadata": {},
   "source": [
    "### Check the distribution and outliers"
   ]
  },
  {
   "cell_type": "code",
   "execution_count": 8,
   "metadata": {},
   "outputs": [
    {
     "data": {
      "image/png": "[encoded data removed]",
      "text/plain": [
       "<Figure size 1080x720 with 12 Axes>"
      ]
     },
     "metadata": {
      "needs_background": "light"
     },
     "output_type": "display_data"
    }
   ],
   "source": [
    "fig, ax = plt.subplots(4,3, figsize=(15,10))\n",
    "sns.distplot(data.AT, ax=ax[0,0])\n",
    "sns.distplot(data.AP, ax=ax[0,1])\n",
    "sns.distplot(data.AH, ax=ax[0,2])\n",
    "sns.distplot(data.AFDP, ax=ax[1,0])\n",
    "sns.distplot(data.GTEP, ax=ax[1,1])\n",
    "sns.distplot(data.TIT, ax=ax[1,2])\n",
    "sns.distplot(data.TAT, ax=ax[2,0])\n",
    "sns.distplot(data.TEY, ax=ax[2,1])\n",
    "sns.distplot(data.CDP, ax=ax[2,2])\n",
    "sns.distplot(data.CO, ax=ax[3,0])\n",
    "sns.distplot(data.NOX, ax=ax[3,1])\n",
    "plt.tight_layout()\n",
    "plt.show()"
   ]
  },
  {
   "cell_type": "code",
   "execution_count": 9,
   "metadata": {},
   "outputs": [
    {
     "data": {
      "image/png": "[encoded data removed]",
      "text/plain": [
       "<Figure size 1080x720 with 12 Axes>"
      ]
     },
     "metadata": {
      "needs_background": "light"
     },
     "output_type": "display_data"
    }
   ],
   "source": [
    "fig, ax = plt.subplots(4,3, figsize=(15,10))\n",
    "sns.boxplot(data.AT, ax=ax[0,0])\n",
    "sns.boxplot(data.AP, ax=ax[0,1])\n",
    "sns.boxplot(data.AH, ax=ax[0,2])\n",
    "sns.boxplot(data.AFDP, ax=ax[1,0])\n",
    "sns.boxplot(data.GTEP, ax=ax[1,1])\n",
    "sns.boxplot(data.TIT, ax=ax[1,2])\n",
    "sns.boxplot(data.TAT, ax=ax[2,0])\n",
    "sns.boxplot(data.TEY, ax=ax[2,1])\n",
    "sns.boxplot(data.CDP, ax=ax[2,2])\n",
    "sns.boxplot(data.CO, ax=ax[3,0])\n",
    "sns.boxplot(data.NOX, ax=ax[3,1])\n",
    "plt.tight_layout()\n",
    "plt.show()"
   ]
  },
  {
   "cell_type": "code",
   "execution_count": 10,
   "metadata": {},
   "outputs": [
    {
     "data": {
      "text/html": [
       "<div>\n",
       "<style scoped>\n",
       "    .dataframe tbody tr th:only-of-type {\n",
       "        vertical-align: middle;\n",
       "    }\n",
       "\n",
       "    .dataframe tbody tr th {\n",
       "        vertical-align: top;\n",
       "    }\n",
       "\n",
       "    .dataframe thead th {\n",
       "        text-align: right;\n",
       "    }\n",
       "</style>\n",
       "<table border=\"1\" class=\"dataframe\">\n",
       "  <thead>\n",
       "    <tr style=\"text-align: right;\">\n",
       "      <th></th>\n",
       "      <th>AT</th>\n",
       "      <th>AP</th>\n",
       "      <th>AH</th>\n",
       "      <th>AFDP</th>\n",
       "      <th>GTEP</th>\n",
       "      <th>TIT</th>\n",
       "      <th>TAT</th>\n",
       "      <th>TEY</th>\n",
       "      <th>CDP</th>\n",
       "      <th>CO</th>\n",
       "      <th>NOX</th>\n",
       "    </tr>\n",
       "  </thead>\n",
       "  <tbody>\n",
       "    <tr>\n",
       "      <th>0</th>\n",
       "      <td>0.184182</td>\n",
       "      <td>0.456050</td>\n",
       "      <td>0.951314</td>\n",
       "      <td>0.255758</td>\n",
       "      <td>0.091426</td>\n",
       "      <td>0.584</td>\n",
       "      <td>0.984015</td>\n",
       "      <td>0.195191</td>\n",
       "      <td>0.135340</td>\n",
       "      <td>0.071522</td>\n",
       "      <td>0.596548</td>\n",
       "    </tr>\n",
       "    <tr>\n",
       "      <th>1</th>\n",
       "      <td>0.182020</td>\n",
       "      <td>0.466391</td>\n",
       "      <td>0.955881</td>\n",
       "      <td>0.255721</td>\n",
       "      <td>0.094755</td>\n",
       "      <td>0.585</td>\n",
       "      <td>0.984015</td>\n",
       "      <td>0.195459</td>\n",
       "      <td>0.133988</td>\n",
       "      <td>0.073372</td>\n",
       "      <td>0.597134</td>\n",
       "    </tr>\n",
       "    <tr>\n",
       "      <th>2</th>\n",
       "      <td>0.185295</td>\n",
       "      <td>0.474664</td>\n",
       "      <td>0.939003</td>\n",
       "      <td>0.252571</td>\n",
       "      <td>0.097367</td>\n",
       "      <td>0.586</td>\n",
       "      <td>0.980608</td>\n",
       "      <td>0.195325</td>\n",
       "      <td>0.134567</td>\n",
       "      <td>0.072576</td>\n",
       "      <td>0.593791</td>\n",
       "    </tr>\n",
       "    <tr>\n",
       "      <th>3</th>\n",
       "      <td>0.189922</td>\n",
       "      <td>0.482937</td>\n",
       "      <td>0.929126</td>\n",
       "      <td>0.252227</td>\n",
       "      <td>0.098033</td>\n",
       "      <td>0.588</td>\n",
       "      <td>0.983753</td>\n",
       "      <td>0.195459</td>\n",
       "      <td>0.135533</td>\n",
       "      <td>0.072375</td>\n",
       "      <td>0.595984</td>\n",
       "    </tr>\n",
       "    <tr>\n",
       "      <th>4</th>\n",
       "      <td>0.199830</td>\n",
       "      <td>0.493278</td>\n",
       "      <td>0.927708</td>\n",
       "      <td>0.255323</td>\n",
       "      <td>0.096650</td>\n",
       "      <td>0.589</td>\n",
       "      <td>0.983491</td>\n",
       "      <td>0.195459</td>\n",
       "      <td>0.136692</td>\n",
       "      <td>0.073647</td>\n",
       "      <td>0.592087</td>\n",
       "    </tr>\n",
       "    <tr>\n",
       "      <th>...</th>\n",
       "      <td>...</td>\n",
       "      <td>...</td>\n",
       "      <td>...</td>\n",
       "      <td>...</td>\n",
       "      <td>...</td>\n",
       "      <td>...</td>\n",
       "      <td>...</td>\n",
       "      <td>...</td>\n",
       "      <td>...</td>\n",
       "      <td>...</td>\n",
       "      <td>...</td>\n",
       "    </tr>\n",
       "    <tr>\n",
       "      <th>15034</th>\n",
       "      <td>0.247272</td>\n",
       "      <td>0.408480</td>\n",
       "      <td>0.975092</td>\n",
       "      <td>0.263380</td>\n",
       "      <td>0.065868</td>\n",
       "      <td>0.489</td>\n",
       "      <td>0.884696</td>\n",
       "      <td>0.153681</td>\n",
       "      <td>0.095739</td>\n",
       "      <td>0.102448</td>\n",
       "      <td>0.562214</td>\n",
       "    </tr>\n",
       "    <tr>\n",
       "      <th>15035</th>\n",
       "      <td>0.214075</td>\n",
       "      <td>0.414685</td>\n",
       "      <td>0.984153</td>\n",
       "      <td>0.256826</td>\n",
       "      <td>0.078672</td>\n",
       "      <td>0.455</td>\n",
       "      <td>0.806342</td>\n",
       "      <td>0.155965</td>\n",
       "      <td>0.102113</td>\n",
       "      <td>0.109894</td>\n",
       "      <td>0.566100</td>\n",
       "    </tr>\n",
       "    <tr>\n",
       "      <th>15036</th>\n",
       "      <td>0.195962</td>\n",
       "      <td>0.422958</td>\n",
       "      <td>0.989922</td>\n",
       "      <td>0.251593</td>\n",
       "      <td>0.084614</td>\n",
       "      <td>0.369</td>\n",
       "      <td>0.651730</td>\n",
       "      <td>0.134605</td>\n",
       "      <td>0.111772</td>\n",
       "      <td>0.180552</td>\n",
       "      <td>0.685449</td>\n",
       "    </tr>\n",
       "    <tr>\n",
       "      <th>15037</th>\n",
       "      <td>0.188443</td>\n",
       "      <td>0.433299</td>\n",
       "      <td>0.982936</td>\n",
       "      <td>0.246451</td>\n",
       "      <td>0.076777</td>\n",
       "      <td>0.424</td>\n",
       "      <td>0.754455</td>\n",
       "      <td>0.141994</td>\n",
       "      <td>0.121431</td>\n",
       "      <td>0.141693</td>\n",
       "      <td>0.710578</td>\n",
       "    </tr>\n",
       "    <tr>\n",
       "      <th>15038</th>\n",
       "      <td>0.186173</td>\n",
       "      <td>0.441572</td>\n",
       "      <td>0.961821</td>\n",
       "      <td>0.242631</td>\n",
       "      <td>0.073141</td>\n",
       "      <td>0.491</td>\n",
       "      <td>0.875262</td>\n",
       "      <td>0.153278</td>\n",
       "      <td>0.131090</td>\n",
       "      <td>0.112946</td>\n",
       "      <td>0.702665</td>\n",
       "    </tr>\n",
       "  </tbody>\n",
       "</table>\n",
       "<p>15039 rows × 11 columns</p>\n",
       "</div>"
      ],
      "text/plain": [
       "             AT        AP        AH      AFDP      GTEP    TIT       TAT  \\\n",
       "0      0.184182  0.456050  0.951314  0.255758  0.091426  0.584  0.984015   \n",
       "1      0.182020  0.466391  0.955881  0.255721  0.094755  0.585  0.984015   \n",
       "2      0.185295  0.474664  0.939003  0.252571  0.097367  0.586  0.980608   \n",
       "3      0.189922  0.482937  0.929126  0.252227  0.098033  0.588  0.983753   \n",
       "4      0.199830  0.493278  0.927708  0.255323  0.096650  0.589  0.983491   \n",
       "...         ...       ...       ...       ...       ...    ...       ...   \n",
       "15034  0.247272  0.408480  0.975092  0.263380  0.065868  0.489  0.884696   \n",
       "15035  0.214075  0.414685  0.984153  0.256826  0.078672  0.455  0.806342   \n",
       "15036  0.195962  0.422958  0.989922  0.251593  0.084614  0.369  0.651730   \n",
       "15037  0.188443  0.433299  0.982936  0.246451  0.076777  0.424  0.754455   \n",
       "15038  0.186173  0.441572  0.961821  0.242631  0.073141  0.491  0.875262   \n",
       "\n",
       "            TEY       CDP        CO       NOX  \n",
       "0      0.195191  0.135340  0.071522  0.596548  \n",
       "1      0.195459  0.133988  0.073372  0.597134  \n",
       "2      0.195325  0.134567  0.072576  0.593791  \n",
       "3      0.195459  0.135533  0.072375  0.595984  \n",
       "4      0.195459  0.136692  0.073647  0.592087  \n",
       "...         ...       ...       ...       ...  \n",
       "15034  0.153681  0.095739  0.102448  0.562214  \n",
       "15035  0.155965  0.102113  0.109894  0.566100  \n",
       "15036  0.134605  0.111772  0.180552  0.685449  \n",
       "15037  0.141994  0.121431  0.141693  0.710578  \n",
       "15038  0.153278  0.131090  0.112946  0.702665  \n",
       "\n",
       "[15039 rows x 11 columns]"
      ]
     },
     "execution_count": 10,
     "metadata": {},
     "output_type": "execute_result"
    }
   ],
   "source": [
    "from sklearn.preprocessing import MinMaxScaler\n",
    "scale = MinMaxScaler()\n",
    "data1 = pd.DataFrame(scale.fit_transform(data),columns=['AT','AP','AH','AFDP','GTEP','TIT','TAT','TEY','CDP','CO','NOX'])\n",
    "data1"
   ]
  },
  {
   "cell_type": "markdown",
   "metadata": {},
   "source": [
    "### Extracting the independent and dependent variables"
   ]
  },
  {
   "cell_type": "code",
   "execution_count": 11,
   "metadata": {},
   "outputs": [],
   "source": [
    "X = data1.drop(axis=0,columns=\"TEY\").values\n",
    "Y = data1[\"TEY\"].values"
   ]
  },
  {
   "cell_type": "code",
   "execution_count": 12,
   "metadata": {},
   "outputs": [
    {
     "data": {
      "text/plain": [
       "array([[0.18418215, 0.45604964, 0.95131413, ..., 0.1353398 , 0.07152212,\n",
       "        0.59654817],\n",
       "       [0.18201978, 0.4663909 , 0.95588067, ..., 0.13398756, 0.07337235,\n",
       "        0.59713433],\n",
       "       [0.18529531, 0.47466391, 0.93900309, ..., 0.13456709, 0.07257648,\n",
       "        0.59379104],\n",
       "       ...,\n",
       "       [0.19596183, 0.4229576 , 0.98992213, ..., 0.11177221, 0.18055195,\n",
       "        0.68544912],\n",
       "       [0.18844295, 0.43329886, 0.98293633, ..., 0.12143106, 0.14169257,\n",
       "        0.71057802],\n",
       "       [0.18617304, 0.44157187, 0.96182146, ..., 0.1310899 , 0.11294597,\n",
       "        0.70266486]])"
      ]
     },
     "execution_count": 12,
     "metadata": {},
     "output_type": "execute_result"
    }
   ],
   "source": [
    "X"
   ]
  },
  {
   "cell_type": "code",
   "execution_count": 13,
   "metadata": {},
   "outputs": [
    {
     "data": {
      "text/plain": [
       "array([0.19519076, 0.19545943, 0.19532509, ..., 0.13460505, 0.14199355,\n",
       "       0.15327781])"
      ]
     },
     "execution_count": 13,
     "metadata": {},
     "output_type": "execute_result"
    }
   ],
   "source": [
    "Y"
   ]
  },
  {
   "cell_type": "code",
   "execution_count": 14,
   "metadata": {},
   "outputs": [],
   "source": [
    "seed = 7\n",
    "np.random.seed(seed)"
   ]
  },
  {
   "cell_type": "code",
   "execution_count": 15,
   "metadata": {},
   "outputs": [],
   "source": [
    "model = Sequential()\n",
    "model.add(Dense(12, input_dim = 10, kernel_initializer = 'uniform', activation = 'relu'))\n",
    "model.add(Dense(8,  kernel_initializer = 'uniform', activation = 'relu'))\n",
    "model.add(Dense(1,  kernel_initializer = 'uniform', activation = 'linear'))"
   ]
  },
  {
   "cell_type": "code",
   "execution_count": 16,
   "metadata": {},
   "outputs": [],
   "source": [
    "model.compile(loss = 'mse', optimizer='adam', metrics=['accuracy'])"
   ]
  },
  {
   "cell_type": "code",
   "execution_count": 17,
   "metadata": {
    "scrolled": true
   },
   "outputs": [
    {
     "name": "stdout",
     "output_type": "stream",
     "text": [
      "Epoch 1/100\n",
      "1008/1008 [==============================] - 8s 6ms/step - loss: 0.0725 - accuracy: 4.8715e-05 - val_loss: 4.7232e-04 - val_accuracy: 2.0149e-04\n",
      "Epoch 2/100\n",
      "1008/1008 [==============================] - 3s 3ms/step - loss: 4.9469e-04 - accuracy: 4.8283e-06 - val_loss: 2.2486e-04 - val_accuracy: 2.0149e-04\n",
      "Epoch 3/100\n",
      "1008/1008 [==============================] - 3s 3ms/step - loss: 1.9701e-04 - accuracy: 1.8667e-04 - val_loss: 2.0014e-04 - val_accuracy: 2.0149e-04\n",
      "Epoch 4/100\n",
      "1008/1008 [==============================] - 3s 3ms/step - loss: 1.5576e-04 - accuracy: 5.5525e-06 - val_loss: 1.3399e-04 - val_accuracy: 2.0149e-04\n",
      "Epoch 5/100\n",
      "1008/1008 [==============================] - 3s 3ms/step - loss: 1.3324e-04 - accuracy: 5.0988e-05 - val_loss: 1.2083e-04 - val_accuracy: 2.0149e-04\n",
      "Epoch 6/100\n",
      "1008/1008 [==============================] - 3s 3ms/step - loss: 1.2918e-04 - accuracy: 1.4467e-04 - val_loss: 1.1277e-04 - val_accuracy: 2.0149e-04\n",
      "Epoch 7/100\n",
      "1008/1008 [==============================] - 3s 3ms/step - loss: 1.2666e-04 - accuracy: 5.5181e-05 - val_loss: 1.2580e-04 - val_accuracy: 2.0149e-04\n",
      "Epoch 8/100\n",
      "1008/1008 [==============================] - 3s 3ms/step - loss: 1.3451e-04 - accuracy: 4.8555e-05 - val_loss: 2.1566e-04 - val_accuracy: 2.0149e-04\n",
      "Epoch 9/100\n",
      "1008/1008 [==============================] - 3s 3ms/step - loss: 1.2936e-04 - accuracy: 3.2374e-04 - val_loss: 1.1596e-04 - val_accuracy: 2.0149e-04\n",
      "Epoch 10/100\n",
      "1008/1008 [==============================] - 3s 3ms/step - loss: 1.2875e-04 - accuracy: 1.4013e-04 - val_loss: 1.3135e-04 - val_accuracy: 2.0149e-04\n",
      "Epoch 11/100\n",
      "1008/1008 [==============================] - 3s 3ms/step - loss: 1.2867e-04 - accuracy: 6.3765e-05 - val_loss: 1.2464e-04 - val_accuracy: 2.0149e-04\n",
      "Epoch 12/100\n",
      "1008/1008 [==============================] - 3s 3ms/step - loss: 1.2494e-04 - accuracy: 2.4237e-05 - val_loss: 1.2866e-04 - val_accuracy: 2.0149e-04\n",
      "Epoch 13/100\n",
      "1008/1008 [==============================] - 3s 3ms/step - loss: 1.2412e-04 - accuracy: 3.0718e-04 - val_loss: 1.1937e-04 - val_accuracy: 2.0149e-04\n",
      "Epoch 14/100\n",
      "1008/1008 [==============================] - 3s 3ms/step - loss: 1.2724e-04 - accuracy: 1.2142e-04 - val_loss: 1.3242e-04 - val_accuracy: 2.0149e-04\n",
      "Epoch 15/100\n",
      "1008/1008 [==============================] - 3s 3ms/step - loss: 1.3022e-04 - accuracy: 3.3563e-05 - val_loss: 1.3965e-04 - val_accuracy: 2.0149e-04\n",
      "Epoch 16/100\n",
      "1008/1008 [==============================] - 4s 4ms/step - loss: 1.1994e-04 - accuracy: 1.5168e-04 - val_loss: 1.2391e-04 - val_accuracy: 2.0149e-04\n",
      "Epoch 17/100\n",
      "1008/1008 [==============================] - 3s 3ms/step - loss: 1.2035e-04 - accuracy: 5.9023e-05 - val_loss: 2.4855e-04 - val_accuracy: 2.0149e-04\n",
      "Epoch 18/100\n",
      "1008/1008 [==============================] - 3s 3ms/step - loss: 1.2299e-04 - accuracy: 5.0660e-05 - val_loss: 1.0834e-04 - val_accuracy: 2.0149e-04\n",
      "Epoch 19/100\n",
      "1008/1008 [==============================] - 3s 3ms/step - loss: 1.2637e-04 - accuracy: 3.5990e-06 - val_loss: 1.1319e-04 - val_accuracy: 2.0149e-04\n",
      "Epoch 20/100\n",
      "1008/1008 [==============================] - 3s 3ms/step - loss: 1.1515e-04 - accuracy: 3.3956e-06 - val_loss: 1.1038e-04 - val_accuracy: 2.0149e-04\n",
      "Epoch 21/100\n",
      "1008/1008 [==============================] - 3s 3ms/step - loss: 1.2317e-04 - accuracy: 7.7790e-05 - val_loss: 1.1094e-04 - val_accuracy: 2.0149e-04\n",
      "Epoch 22/100\n",
      "1008/1008 [==============================] - 3s 3ms/step - loss: 1.2418e-04 - accuracy: 2.2669e-04 - val_loss: 1.1104e-04 - val_accuracy: 2.0149e-04\n",
      "Epoch 23/100\n",
      "1008/1008 [==============================] - 3s 3ms/step - loss: 1.2219e-04 - accuracy: 1.6637e-05 - val_loss: 1.2371e-04 - val_accuracy: 2.0149e-04\n",
      "Epoch 24/100\n",
      "1008/1008 [==============================] - 3s 3ms/step - loss: 1.2395e-04 - accuracy: 1.3843e-06 - val_loss: 1.2278e-04 - val_accuracy: 2.0149e-04\n",
      "Epoch 25/100\n",
      "1008/1008 [==============================] - 3s 3ms/step - loss: 1.2612e-04 - accuracy: 1.0012e-05 - val_loss: 1.3179e-04 - val_accuracy: 2.0149e-04\n",
      "Epoch 26/100\n",
      "1008/1008 [==============================] - 3s 3ms/step - loss: 1.2877e-04 - accuracy: 4.1389e-04 - val_loss: 1.0897e-04 - val_accuracy: 2.0149e-04\n",
      "Epoch 27/100\n",
      "1008/1008 [==============================] - 3s 3ms/step - loss: 1.1527e-04 - accuracy: 7.3335e-06 - val_loss: 1.8139e-04 - val_accuracy: 2.0149e-04\n",
      "Epoch 28/100\n",
      "1008/1008 [==============================] - 3s 3ms/step - loss: 1.2748e-04 - accuracy: 6.1915e-05 - val_loss: 1.2138e-04 - val_accuracy: 2.0149e-04\n",
      "Epoch 29/100\n",
      "1008/1008 [==============================] - 3s 3ms/step - loss: 1.2705e-04 - accuracy: 1.9758e-04 - val_loss: 1.1618e-04 - val_accuracy: 2.0149e-04\n",
      "Epoch 30/100\n",
      "1008/1008 [==============================] - 3s 3ms/step - loss: 1.2518e-04 - accuracy: 6.1548e-05 - val_loss: 1.3959e-04 - val_accuracy: 2.0149e-04\n",
      "Epoch 31/100\n",
      "1008/1008 [==============================] - 3s 3ms/step - loss: 1.2514e-04 - accuracy: 4.0770e-04 - val_loss: 1.1182e-04 - val_accuracy: 2.0149e-04\n",
      "Epoch 32/100\n",
      "1008/1008 [==============================] - 3s 3ms/step - loss: 1.2079e-04 - accuracy: 9.9075e-05 - val_loss: 1.0449e-04 - val_accuracy: 2.0149e-04\n",
      "Epoch 33/100\n",
      "1008/1008 [==============================] - 3s 3ms/step - loss: 1.2187e-04 - accuracy: 2.2843e-06 - val_loss: 1.1101e-04 - val_accuracy: 2.0149e-04\n",
      "Epoch 34/100\n",
      "1008/1008 [==============================] - 3s 3ms/step - loss: 1.2253e-04 - accuracy: 7.7790e-05 - val_loss: 1.1644e-04 - val_accuracy: 2.0149e-04\n",
      "Epoch 35/100\n",
      "1008/1008 [==============================] - 4s 4ms/step - loss: 1.2273e-04 - accuracy: 6.5461e-05 - val_loss: 1.0622e-04 - val_accuracy: 2.0149e-04\n",
      "Epoch 36/100\n",
      "1008/1008 [==============================] - 3s 3ms/step - loss: 1.2347e-04 - accuracy: 1.4455e-05 - val_loss: 1.1343e-04 - val_accuracy: 2.0149e-04\n",
      "Epoch 37/100\n",
      "1008/1008 [==============================] - 3s 3ms/step - loss: 1.1689e-04 - accuracy: 1.1590e-04 - val_loss: 1.3524e-04 - val_accuracy: 2.0149e-04\n",
      "Epoch 38/100\n",
      "1008/1008 [==============================] - 3s 3ms/step - loss: 1.1992e-04 - accuracy: 2.1029e-05 - val_loss: 1.0516e-04 - val_accuracy: 2.0149e-04\n",
      "Epoch 39/100\n",
      "1008/1008 [==============================] - 3s 3ms/step - loss: 1.1754e-04 - accuracy: 2.0787e-05 - val_loss: 1.2681e-04 - val_accuracy: 2.0149e-04\n",
      "Epoch 40/100\n",
      "1008/1008 [==============================] - 3s 3ms/step - loss: 1.1823e-04 - accuracy: 3.1394e-04 - val_loss: 1.2827e-04 - val_accuracy: 2.0149e-04\n",
      "Epoch 41/100\n",
      "1008/1008 [==============================] - 3s 3ms/step - loss: 1.2533e-04 - accuracy: 2.1232e-04 - val_loss: 1.2312e-04 - val_accuracy: 2.0149e-04\n",
      "Epoch 42/100\n",
      "1008/1008 [==============================] - 3s 3ms/step - loss: 1.1752e-04 - accuracy: 5.3482e-05 - val_loss: 1.1572e-04 - val_accuracy: 2.0149e-04\n",
      "Epoch 43/100\n",
      "1008/1008 [==============================] - 3s 3ms/step - loss: 1.2080e-04 - accuracy: 1.5712e-05 - val_loss: 1.3014e-04 - val_accuracy: 2.0149e-04\n",
      "Epoch 44/100\n",
      "1008/1008 [==============================] - 3s 3ms/step - loss: 1.1937e-04 - accuracy: 5.5352e-05 - val_loss: 1.2013e-04 - val_accuracy: 2.0149e-04\n",
      "Epoch 45/100\n",
      "1008/1008 [==============================] - 3s 3ms/step - loss: 1.2292e-04 - accuracy: 7.2143e-05 - val_loss: 1.0475e-04 - val_accuracy: 2.0149e-04\n",
      "Epoch 46/100\n",
      "1008/1008 [==============================] - 3s 3ms/step - loss: 1.1969e-04 - accuracy: 1.8412e-04 - val_loss: 1.0625e-04 - val_accuracy: 2.0149e-04\n",
      "Epoch 47/100\n",
      "1008/1008 [==============================] - 3s 3ms/step - loss: 1.1480e-04 - accuracy: 1.1433e-04 - val_loss: 2.3595e-04 - val_accuracy: 2.0149e-04\n",
      "Epoch 48/100\n",
      "1008/1008 [==============================] - 3s 3ms/step - loss: 1.1874e-04 - accuracy: 7.2755e-05 - val_loss: 1.5628e-04 - val_accuracy: 2.0149e-04\n",
      "Epoch 49/100\n",
      "1008/1008 [==============================] - 3s 3ms/step - loss: 1.1542e-04 - accuracy: 1.1977e-04 - val_loss: 1.3686e-04 - val_accuracy: 2.0149e-04\n",
      "Epoch 50/100\n",
      "1008/1008 [==============================] - 3s 3ms/step - loss: 1.2083e-04 - accuracy: 2.9300e-04 - val_loss: 1.0574e-04 - val_accuracy: 2.0149e-04\n",
      "Epoch 51/100\n",
      "1008/1008 [==============================] - 3s 3ms/step - loss: 1.1611e-04 - accuracy: 2.7415e-04 - val_loss: 1.1652e-04 - val_accuracy: 2.0149e-04\n",
      "Epoch 52/100\n",
      "1008/1008 [==============================] - 3s 3ms/step - loss: 1.1395e-04 - accuracy: 4.4013e-05 - val_loss: 1.0575e-04 - val_accuracy: 2.0149e-04\n",
      "Epoch 53/100\n",
      "1008/1008 [==============================] - 4s 4ms/step - loss: 1.1534e-04 - accuracy: 3.8941e-05 - val_loss: 1.8443e-04 - val_accuracy: 2.0149e-04\n",
      "Epoch 54/100\n",
      "1008/1008 [==============================] - 3s 3ms/step - loss: 1.2198e-04 - accuracy: 1.8995e-04 - val_loss: 1.0344e-04 - val_accuracy: 2.0149e-04\n",
      "Epoch 55/100\n",
      "1008/1008 [==============================] - 3s 3ms/step - loss: 1.1495e-04 - accuracy: 6.8064e-06 - val_loss: 1.0601e-04 - val_accuracy: 2.0149e-04\n",
      "Epoch 56/100\n",
      "1008/1008 [==============================] - 3s 3ms/step - loss: 1.2376e-04 - accuracy: 2.7108e-04 - val_loss: 1.0665e-04 - val_accuracy: 2.0149e-04\n",
      "Epoch 57/100\n",
      "1008/1008 [==============================] - 3s 3ms/step - loss: 1.1488e-04 - accuracy: 9.0396e-05 - val_loss: 1.1898e-04 - val_accuracy: 2.0149e-04\n",
      "Epoch 58/100\n",
      "1008/1008 [==============================] - 3s 3ms/step - loss: 1.1212e-04 - accuracy: 5.8490e-05 - val_loss: 1.0699e-04 - val_accuracy: 2.0149e-04\n",
      "Epoch 59/100\n",
      "1008/1008 [==============================] - 3s 3ms/step - loss: 1.1479e-04 - accuracy: 3.9636e-04 - val_loss: 1.4747e-04 - val_accuracy: 2.0149e-04\n",
      "Epoch 60/100\n",
      "1008/1008 [==============================] - 3s 3ms/step - loss: 1.1073e-04 - accuracy: 4.4781e-05 - val_loss: 1.0203e-04 - val_accuracy: 2.0149e-04\n",
      "Epoch 61/100\n",
      "1008/1008 [==============================] - 3s 3ms/step - loss: 1.1661e-04 - accuracy: 1.2517e-04 - val_loss: 1.0116e-04 - val_accuracy: 2.0149e-04\n",
      "Epoch 62/100\n",
      "1008/1008 [==============================] - 3s 3ms/step - loss: 1.1150e-04 - accuracy: 4.8283e-06 - val_loss: 1.1513e-04 - val_accuracy: 2.0149e-04\n",
      "Epoch 63/100\n",
      "1008/1008 [==============================] - 3s 3ms/step - loss: 1.0865e-04 - accuracy: 5.6564e-06 - val_loss: 1.0070e-04 - val_accuracy: 2.0149e-04\n",
      "Epoch 64/100\n",
      "1008/1008 [==============================] - 3s 3ms/step - loss: 1.2321e-04 - accuracy: 1.0096e-04 - val_loss: 1.0392e-04 - val_accuracy: 2.0149e-04\n",
      "Epoch 65/100\n",
      "1008/1008 [==============================] - 3s 3ms/step - loss: 1.1121e-04 - accuracy: 2.5699e-04 - val_loss: 1.1783e-04 - val_accuracy: 2.0149e-04\n",
      "Epoch 66/100\n",
      "1008/1008 [==============================] - 3s 3ms/step - loss: 1.1008e-04 - accuracy: 3.7354e-05 - val_loss: 1.3706e-04 - val_accuracy: 2.0149e-04\n",
      "Epoch 67/100\n",
      "1008/1008 [==============================] - 3s 3ms/step - loss: 1.1904e-04 - accuracy: 2.7292e-05 - val_loss: 1.0361e-04 - val_accuracy: 2.0149e-04\n",
      "Epoch 68/100\n",
      "1008/1008 [==============================] - 3s 3ms/step - loss: 1.1347e-04 - accuracy: 1.6737e-04 - val_loss: 1.0691e-04 - val_accuracy: 2.0149e-04\n",
      "Epoch 69/100\n",
      "1008/1008 [==============================] - 3s 3ms/step - loss: 1.1310e-04 - accuracy: 1.7981e-04 - val_loss: 1.1178e-04 - val_accuracy: 2.0149e-04\n",
      "Epoch 70/100\n",
      "1008/1008 [==============================] - 3s 3ms/step - loss: 1.2056e-04 - accuracy: 2.0352e-04 - val_loss: 1.2314e-04 - val_accuracy: 2.0149e-04\n",
      "Epoch 71/100\n",
      "1008/1008 [==============================] - 3s 3ms/step - loss: 1.1649e-04 - accuracy: 8.8247e-06 - val_loss: 1.0564e-04 - val_accuracy: 2.0149e-04\n",
      "Epoch 72/100\n",
      "1008/1008 [==============================] - 3s 3ms/step - loss: 1.2177e-04 - accuracy: 2.0506e-04 - val_loss: 1.0275e-04 - val_accuracy: 2.0149e-04\n",
      "Epoch 73/100\n",
      "1008/1008 [==============================] - 3s 3ms/step - loss: 1.1827e-04 - accuracy: 4.7598e-05 - val_loss: 1.0093e-04 - val_accuracy: 2.0149e-04\n",
      "Epoch 74/100\n",
      "1008/1008 [==============================] - 3s 3ms/step - loss: 1.1328e-04 - accuracy: 7.8654e-05 - val_loss: 1.0132e-04 - val_accuracy: 2.0149e-04\n",
      "Epoch 75/100\n",
      "1008/1008 [==============================] - 3s 3ms/step - loss: 1.1352e-04 - accuracy: 1.1104e-05 - val_loss: 1.0569e-04 - val_accuracy: 2.0149e-04\n",
      "Epoch 76/100\n",
      "1008/1008 [==============================] - 3s 3ms/step - loss: 1.1527e-04 - accuracy: 2.0352e-04 - val_loss: 9.9588e-05 - val_accuracy: 2.0149e-04\n",
      "Epoch 77/100\n",
      "1008/1008 [==============================] - 3s 3ms/step - loss: 1.1100e-04 - accuracy: 2.0584e-04 - val_loss: 1.0089e-04 - val_accuracy: 2.0149e-04\n",
      "Epoch 78/100\n",
      "1008/1008 [==============================] - 3s 3ms/step - loss: 1.1768e-04 - accuracy: 4.2043e-05 - val_loss: 1.0236e-04 - val_accuracy: 2.0149e-04\n",
      "Epoch 79/100\n",
      "1008/1008 [==============================] - 3s 3ms/step - loss: 1.0942e-04 - accuracy: 3.8029e-06 - val_loss: 9.9148e-05 - val_accuracy: 2.0149e-04\n",
      "Epoch 80/100\n",
      "1008/1008 [==============================] - 3s 3ms/step - loss: 1.0827e-04 - accuracy: 2.7572e-04 - val_loss: 1.0616e-04 - val_accuracy: 2.0149e-04\n",
      "Epoch 81/100\n",
      "1008/1008 [==============================] - 4s 4ms/step - loss: 1.1025e-04 - accuracy: 2.6870e-06 - val_loss: 1.0029e-04 - val_accuracy: 2.0149e-04\n",
      "Epoch 82/100\n",
      "1008/1008 [==============================] - 4s 4ms/step - loss: 1.1518e-04 - accuracy: 5.4668e-05 - val_loss: 1.1314e-04 - val_accuracy: 2.0149e-04\n",
      "Epoch 83/100\n",
      "1008/1008 [==============================] - 4s 4ms/step - loss: 1.1884e-04 - accuracy: 8.3095e-05 - val_loss: 1.2686e-04 - val_accuracy: 2.0149e-04\n",
      "Epoch 84/100\n",
      "1008/1008 [==============================] - 4s 4ms/step - loss: 1.0825e-04 - accuracy: 3.0086e-04 - val_loss: 1.1119e-04 - val_accuracy: 2.0149e-04\n",
      "Epoch 85/100\n",
      "1008/1008 [==============================] - 4s 4ms/step - loss: 1.1532e-04 - accuracy: 1.5680e-04 - val_loss: 1.0328e-04 - val_accuracy: 2.0149e-04\n",
      "Epoch 86/100\n",
      "1008/1008 [==============================] - 4s 4ms/step - loss: 1.1224e-04 - accuracy: 2.0822e-04 - val_loss: 1.0070e-04 - val_accuracy: 2.0149e-04\n",
      "Epoch 87/100\n",
      "1008/1008 [==============================] - 4s 4ms/step - loss: 1.1999e-04 - accuracy: 3.2604e-05 - val_loss: 1.2049e-04 - val_accuracy: 2.0149e-04\n",
      "Epoch 88/100\n",
      "1008/1008 [==============================] - 3s 3ms/step - loss: 1.1797e-04 - accuracy: 1.9225e-05 - val_loss: 1.0193e-04 - val_accuracy: 2.0149e-04\n",
      "Epoch 89/100\n",
      "1008/1008 [==============================] - 3s 3ms/step - loss: 1.0867e-04 - accuracy: 4.2118e-06 - val_loss: 1.0753e-04 - val_accuracy: 2.0149e-04\n",
      "Epoch 90/100\n",
      "1008/1008 [==============================] - 3s 3ms/step - loss: 1.1223e-04 - accuracy: 4.4346e-04 - val_loss: 9.8902e-05 - val_accuracy: 2.0149e-04\n",
      "Epoch 91/100\n",
      "1008/1008 [==============================] - 3s 3ms/step - loss: 1.1307e-04 - accuracy: 1.3052e-04 - val_loss: 1.1839e-04 - val_accuracy: 2.0149e-04\n",
      "Epoch 92/100\n",
      "1008/1008 [==============================] - 3s 3ms/step - loss: 1.0399e-04 - accuracy: 5.1646e-04 - val_loss: 9.7633e-05 - val_accuracy: 2.0149e-04\n",
      "Epoch 93/100\n",
      "1008/1008 [==============================] - 3s 3ms/step - loss: 1.0512e-04 - accuracy: 8.9423e-05 - val_loss: 1.1067e-04 - val_accuracy: 2.0149e-04\n",
      "Epoch 94/100\n",
      "1008/1008 [==============================] - 3s 3ms/step - loss: 1.0992e-04 - accuracy: 2.4125e-04 - val_loss: 9.9615e-05 - val_accuracy: 2.0149e-04\n",
      "Epoch 95/100\n",
      "1008/1008 [==============================] - 3s 3ms/step - loss: 1.0906e-04 - accuracy: 1.2277e-04 - val_loss: 1.0078e-04 - val_accuracy: 2.0149e-04\n",
      "Epoch 96/100\n",
      "1008/1008 [==============================] - 3s 3ms/step - loss: 1.1074e-04 - accuracy: 2.0304e-05 - val_loss: 1.0978e-04 - val_accuracy: 2.0149e-04\n",
      "Epoch 97/100\n",
      "1008/1008 [==============================] - 3s 3ms/step - loss: 1.0429e-04 - accuracy: 8.6325e-05 - val_loss: 1.0349e-04 - val_accuracy: 2.0149e-04\n",
      "Epoch 98/100\n",
      "1008/1008 [==============================] - 3s 3ms/step - loss: 1.0900e-04 - accuracy: 3.9049e-06 - val_loss: 1.0308e-04 - val_accuracy: 2.0149e-04\n",
      "Epoch 99/100\n",
      "1008/1008 [==============================] - 3s 3ms/step - loss: 1.1298e-04 - accuracy: 4.4781e-05 - val_loss: 9.9579e-05 - val_accuracy: 2.0149e-04\n",
      "Epoch 100/100\n",
      "1008/1008 [==============================] - 3s 3ms/step - loss: 1.0696e-04 - accuracy: 5.6214e-05 - val_loss: 9.8039e-05 - val_accuracy: 2.0149e-04\n"
     ]
    },
    {
     "data": {
      "text/plain": [
       "<tensorflow.python.keras.callbacks.History at 0x20655e78280>"
      ]
     },
     "execution_count": 17,
     "metadata": {},
     "output_type": "execute_result"
    }
   ],
   "source": [
    "model.fit(X, Y, validation_split=0.33, epochs=100, batch_size=10)"
   ]
  },
  {
   "cell_type": "code",
   "execution_count": 18,
   "metadata": {},
   "outputs": [
    {
     "name": "stdout",
     "output_type": "stream",
     "text": [
      "470/470 [==============================] - 1s 2ms/step - loss: 9.8251e-05 - accuracy: 1.3299e-04\n",
      "accuracy: 0.01%\n"
     ]
    }
   ],
   "source": [
    "scores = model.evaluate(X,Y)\n",
    "print(\"%s: %.2f%%\" % (model.metrics_names[1], scores[1]*100))"
   ]
  },
  {
   "cell_type": "code",
   "execution_count": 19,
   "metadata": {},
   "outputs": [
    {
     "name": "stdout",
     "output_type": "stream",
     "text": [
      "Epoch 1/100\n",
      "1008/1008 [==============================] - 3s 3ms/step - loss: 1.1087e-04 - accuracy: 9.9246e-05 - val_loss: 1.1165e-04 - val_accuracy: 2.0149e-04\n",
      "Epoch 2/100\n",
      "1008/1008 [==============================] - 3s 3ms/step - loss: 1.1048e-04 - accuracy: 9.9246e-05 - val_loss: 1.0820e-04 - val_accuracy: 2.0149e-04\n",
      "Epoch 3/100\n",
      "1008/1008 [==============================] - 3s 3ms/step - loss: 1.1228e-04 - accuracy: 9.9246e-05 - val_loss: 9.7374e-05 - val_accuracy: 2.0149e-04\n",
      "Epoch 4/100\n",
      "1008/1008 [==============================] - 3s 3ms/step - loss: 1.1070e-04 - accuracy: 9.9246e-05 - val_loss: 1.1979e-04 - val_accuracy: 2.0149e-04\n",
      "Epoch 5/100\n",
      "1008/1008 [==============================] - 4s 4ms/step - loss: 1.0970e-04 - accuracy: 9.9246e-05 - val_loss: 9.8602e-05 - val_accuracy: 2.0149e-04\n",
      "Epoch 6/100\n",
      "1008/1008 [==============================] - 3s 3ms/step - loss: 1.0941e-04 - accuracy: 9.9246e-05 - val_loss: 1.0031e-04 - val_accuracy: 2.0149e-04\n",
      "Epoch 7/100\n",
      "1008/1008 [==============================] - 3s 3ms/step - loss: 1.1031e-04 - accuracy: 9.9246e-05 - val_loss: 1.0099e-04 - val_accuracy: 2.0149e-04\n",
      "Epoch 8/100\n",
      "1008/1008 [==============================] - 3s 3ms/step - loss: 1.1178e-04 - accuracy: 9.9246e-05 - val_loss: 1.0441e-04 - val_accuracy: 2.0149e-04\n",
      "Epoch 9/100\n",
      "1008/1008 [==============================] - 3s 3ms/step - loss: 1.0979e-04 - accuracy: 9.9246e-05 - val_loss: 1.0678e-04 - val_accuracy: 2.0149e-04\n",
      "Epoch 10/100\n",
      "1008/1008 [==============================] - 3s 3ms/step - loss: 1.0896e-04 - accuracy: 9.9246e-05 - val_loss: 1.0314e-04 - val_accuracy: 2.0149e-04\n",
      "Epoch 11/100\n",
      "1008/1008 [==============================] - 3s 3ms/step - loss: 1.0919e-04 - accuracy: 9.9246e-05 - val_loss: 1.2805e-04 - val_accuracy: 2.0149e-04\n",
      "Epoch 12/100\n",
      "1008/1008 [==============================] - 3s 3ms/step - loss: 1.1223e-04 - accuracy: 9.9246e-05 - val_loss: 9.8151e-05 - val_accuracy: 2.0149e-04\n",
      "Epoch 13/100\n",
      "1008/1008 [==============================] - 3s 3ms/step - loss: 1.1144e-04 - accuracy: 9.9246e-05 - val_loss: 1.0084e-04 - val_accuracy: 2.0149e-04\n",
      "Epoch 14/100\n",
      "1008/1008 [==============================] - 3s 3ms/step - loss: 1.0972e-04 - accuracy: 9.9246e-05 - val_loss: 1.0621e-04 - val_accuracy: 2.0149e-04\n",
      "Epoch 15/100\n",
      "1008/1008 [==============================] - 3s 3ms/step - loss: 1.1040e-04 - accuracy: 9.9246e-05 - val_loss: 1.1256e-04 - val_accuracy: 2.0149e-04\n",
      "Epoch 16/100\n",
      "1008/1008 [==============================] - 3s 3ms/step - loss: 1.0856e-04 - accuracy: 9.9246e-05 - val_loss: 2.0132e-04 - val_accuracy: 2.0149e-04\n",
      "Epoch 17/100\n",
      "1008/1008 [==============================] - 3s 3ms/step - loss: 1.1033e-04 - accuracy: 9.9246e-05 - val_loss: 1.3077e-04 - val_accuracy: 2.0149e-04\n",
      "Epoch 18/100\n",
      "1008/1008 [==============================] - 3s 3ms/step - loss: 1.0931e-04 - accuracy: 9.9246e-05 - val_loss: 9.6374e-05 - val_accuracy: 2.0149e-04\n",
      "Epoch 19/100\n",
      "1008/1008 [==============================] - 3s 3ms/step - loss: 1.1054e-04 - accuracy: 9.9246e-05 - val_loss: 1.1184e-04 - val_accuracy: 2.0149e-04\n",
      "Epoch 20/100\n",
      "1008/1008 [==============================] - 3s 3ms/step - loss: 1.1038e-04 - accuracy: 9.9246e-05 - val_loss: 1.0280e-04 - val_accuracy: 2.0149e-04\n",
      "Epoch 21/100\n",
      "1008/1008 [==============================] - 3s 3ms/step - loss: 1.0894e-04 - accuracy: 9.9246e-05 - val_loss: 1.5811e-04 - val_accuracy: 2.0149e-04\n",
      "Epoch 22/100\n",
      "1008/1008 [==============================] - 3s 3ms/step - loss: 1.1057e-04 - accuracy: 9.9246e-05 - val_loss: 9.7634e-05 - val_accuracy: 2.0149e-04\n",
      "Epoch 23/100\n",
      "1008/1008 [==============================] - 3s 3ms/step - loss: 1.0660e-04 - accuracy: 9.9246e-05 - val_loss: 9.7172e-05 - val_accuracy: 2.0149e-04\n",
      "Epoch 24/100\n",
      "1008/1008 [==============================] - 3s 3ms/step - loss: 1.0798e-04 - accuracy: 9.9246e-05 - val_loss: 1.0135e-04 - val_accuracy: 2.0149e-04\n",
      "Epoch 25/100\n",
      "1008/1008 [==============================] - 3s 3ms/step - loss: 1.0924e-04 - accuracy: 9.9246e-05 - val_loss: 1.0364e-04 - val_accuracy: 2.0149e-04\n",
      "Epoch 26/100\n",
      "1008/1008 [==============================] - 3s 3ms/step - loss: 1.0882e-04 - accuracy: 9.9246e-05 - val_loss: 9.7356e-05 - val_accuracy: 2.0149e-04\n",
      "Epoch 27/100\n",
      "1008/1008 [==============================] - 3s 3ms/step - loss: 1.1007e-04 - accuracy: 9.9246e-05 - val_loss: 9.6035e-05 - val_accuracy: 2.0149e-04\n",
      "Epoch 28/100\n",
      "1008/1008 [==============================] - 3s 3ms/step - loss: 1.0957e-04 - accuracy: 9.9246e-05 - val_loss: 9.9645e-05 - val_accuracy: 2.0149e-04\n",
      "Epoch 29/100\n",
      "1008/1008 [==============================] - 3s 3ms/step - loss: 1.0958e-04 - accuracy: 9.9246e-05 - val_loss: 9.7274e-05 - val_accuracy: 2.0149e-04\n",
      "Epoch 30/100\n",
      "1008/1008 [==============================] - 3s 3ms/step - loss: 1.0868e-04 - accuracy: 9.9246e-05 - val_loss: 1.4195e-04 - val_accuracy: 2.0149e-04\n",
      "Epoch 31/100\n",
      "1008/1008 [==============================] - 3s 3ms/step - loss: 1.1165e-04 - accuracy: 9.9246e-05 - val_loss: 1.1288e-04 - val_accuracy: 2.0149e-04\n",
      "Epoch 32/100\n",
      "1008/1008 [==============================] - 3s 3ms/step - loss: 1.0833e-04 - accuracy: 9.9246e-05 - val_loss: 1.5353e-04 - val_accuracy: 2.0149e-04\n",
      "Epoch 33/100\n",
      "1008/1008 [==============================] - 3s 3ms/step - loss: 1.1044e-04 - accuracy: 9.9246e-05 - val_loss: 1.0118e-04 - val_accuracy: 2.0149e-04\n",
      "Epoch 34/100\n",
      "1008/1008 [==============================] - 3s 3ms/step - loss: 1.0897e-04 - accuracy: 9.9246e-05 - val_loss: 9.9715e-05 - val_accuracy: 2.0149e-04\n",
      "Epoch 35/100\n",
      "1008/1008 [==============================] - 3s 3ms/step - loss: 1.1088e-04 - accuracy: 9.9246e-05 - val_loss: 1.0593e-04 - val_accuracy: 2.0149e-04\n",
      "Epoch 36/100\n",
      "1008/1008 [==============================] - 3s 3ms/step - loss: 1.1084e-04 - accuracy: 9.9246e-05 - val_loss: 9.7278e-05 - val_accuracy: 2.0149e-04\n",
      "Epoch 37/100\n",
      "1008/1008 [==============================] - 3s 3ms/step - loss: 1.0677e-04 - accuracy: 9.9246e-05 - val_loss: 1.3909e-04 - val_accuracy: 2.0149e-04\n",
      "Epoch 38/100\n",
      "1008/1008 [==============================] - 3s 3ms/step - loss: 1.0915e-04 - accuracy: 9.9246e-05 - val_loss: 9.6872e-05 - val_accuracy: 2.0149e-04\n",
      "Epoch 39/100\n",
      "1008/1008 [==============================] - 3s 3ms/step - loss: 1.0880e-04 - accuracy: 9.9246e-05 - val_loss: 9.7226e-05 - val_accuracy: 2.0149e-04\n",
      "Epoch 40/100\n",
      "1008/1008 [==============================] - 3s 3ms/step - loss: 1.1107e-04 - accuracy: 9.9246e-05 - val_loss: 1.5862e-04 - val_accuracy: 2.0149e-04\n",
      "Epoch 41/100\n",
      "1008/1008 [==============================] - 3s 3ms/step - loss: 1.0941e-04 - accuracy: 9.9246e-05 - val_loss: 9.9044e-05 - val_accuracy: 2.0149e-04\n",
      "Epoch 42/100\n",
      "1008/1008 [==============================] - 3s 3ms/step - loss: 1.0848e-04 - accuracy: 9.9246e-05 - val_loss: 1.0904e-04 - val_accuracy: 2.0149e-04\n",
      "Epoch 43/100\n",
      "1008/1008 [==============================] - 3s 3ms/step - loss: 1.0803e-04 - accuracy: 9.9246e-05 - val_loss: 1.1860e-04 - val_accuracy: 2.0149e-04\n",
      "Epoch 44/100\n",
      "1008/1008 [==============================] - 3s 3ms/step - loss: 1.1133e-04 - accuracy: 9.9246e-05 - val_loss: 9.8919e-05 - val_accuracy: 2.0149e-04\n",
      "Epoch 45/100\n",
      "1008/1008 [==============================] - 3s 3ms/step - loss: 1.0691e-04 - accuracy: 9.9246e-05 - val_loss: 1.0192e-04 - val_accuracy: 2.0149e-04\n",
      "Epoch 46/100\n",
      "1008/1008 [==============================] - 3s 3ms/step - loss: 1.0969e-04 - accuracy: 9.9246e-05 - val_loss: 1.1456e-04 - val_accuracy: 2.0149e-04\n",
      "Epoch 47/100\n",
      "1008/1008 [==============================] - 3s 3ms/step - loss: 1.0824e-04 - accuracy: 9.9246e-05 - val_loss: 9.8891e-05 - val_accuracy: 2.0149e-04\n",
      "Epoch 48/100\n",
      "1008/1008 [==============================] - 3s 3ms/step - loss: 1.0852e-04 - accuracy: 9.9246e-05 - val_loss: 1.2643e-04 - val_accuracy: 2.0149e-04\n",
      "Epoch 49/100\n",
      "1008/1008 [==============================] - 3s 3ms/step - loss: 1.1019e-04 - accuracy: 9.9246e-05 - val_loss: 9.8824e-05 - val_accuracy: 2.0149e-04\n",
      "Epoch 50/100\n",
      "1008/1008 [==============================] - 3s 3ms/step - loss: 1.0796e-04 - accuracy: 9.9246e-05 - val_loss: 1.9183e-04 - val_accuracy: 2.0149e-04\n",
      "Epoch 51/100\n",
      "1008/1008 [==============================] - 3s 3ms/step - loss: 1.0724e-04 - accuracy: 9.9246e-05 - val_loss: 1.1538e-04 - val_accuracy: 2.0149e-04\n",
      "Epoch 52/100\n",
      "1008/1008 [==============================] - 3s 3ms/step - loss: 1.1080e-04 - accuracy: 9.9246e-05 - val_loss: 9.7669e-05 - val_accuracy: 2.0149e-04\n",
      "Epoch 53/100\n",
      "1008/1008 [==============================] - 3s 3ms/step - loss: 1.1073e-04 - accuracy: 9.9246e-05 - val_loss: 1.1291e-04 - val_accuracy: 2.0149e-04\n",
      "Epoch 54/100\n",
      "1008/1008 [==============================] - 3s 3ms/step - loss: 1.0923e-04 - accuracy: 9.9246e-05 - val_loss: 9.6733e-05 - val_accuracy: 2.0149e-04\n",
      "Epoch 55/100\n",
      "1008/1008 [==============================] - 3s 3ms/step - loss: 1.1124e-04 - accuracy: 9.9246e-05 - val_loss: 1.5724e-04 - val_accuracy: 2.0149e-04\n",
      "Epoch 56/100\n",
      "1008/1008 [==============================] - 3s 3ms/step - loss: 1.0786e-04 - accuracy: 9.9246e-05 - val_loss: 9.7154e-05 - val_accuracy: 2.0149e-04\n",
      "Epoch 57/100\n",
      "1008/1008 [==============================] - 3s 3ms/step - loss: 1.0496e-04 - accuracy: 9.9246e-05 - val_loss: 1.0221e-04 - val_accuracy: 2.0149e-04\n",
      "Epoch 58/100\n",
      "1008/1008 [==============================] - 3s 3ms/step - loss: 1.0634e-04 - accuracy: 9.9246e-05 - val_loss: 9.9234e-05 - val_accuracy: 2.0149e-04\n",
      "Epoch 59/100\n",
      "1008/1008 [==============================] - 3s 3ms/step - loss: 1.0614e-04 - accuracy: 9.9246e-05 - val_loss: 9.9031e-05 - val_accuracy: 2.0149e-04\n",
      "Epoch 60/100\n",
      "1008/1008 [==============================] - 3s 3ms/step - loss: 1.1238e-04 - accuracy: 9.9246e-05 - val_loss: 9.9621e-05 - val_accuracy: 2.0149e-04\n",
      "Epoch 61/100\n",
      "1008/1008 [==============================] - 4s 4ms/step - loss: 1.0782e-04 - accuracy: 9.9246e-05 - val_loss: 9.9654e-05 - val_accuracy: 2.0149e-04\n",
      "Epoch 62/100\n",
      "1008/1008 [==============================] - 4s 4ms/step - loss: 1.0679e-04 - accuracy: 9.9246e-05 - val_loss: 1.0644e-04 - val_accuracy: 2.0149e-04\n",
      "Epoch 63/100\n",
      "1008/1008 [==============================] - 4s 4ms/step - loss: 1.0925e-04 - accuracy: 9.9246e-05 - val_loss: 9.7454e-05 - val_accuracy: 2.0149e-04\n",
      "Epoch 64/100\n",
      "1008/1008 [==============================] - 4s 4ms/step - loss: 1.0838e-04 - accuracy: 9.9246e-05 - val_loss: 9.8973e-05 - val_accuracy: 2.0149e-04\n",
      "Epoch 65/100\n",
      "1008/1008 [==============================] - 4s 4ms/step - loss: 1.0910e-04 - accuracy: 9.9246e-05 - val_loss: 1.3637e-04 - val_accuracy: 2.0149e-04\n",
      "Epoch 66/100\n",
      "1008/1008 [==============================] - 4s 4ms/step - loss: 1.0816e-04 - accuracy: 9.9246e-05 - val_loss: 1.0085e-04 - val_accuracy: 2.0149e-04\n",
      "Epoch 67/100\n",
      "1008/1008 [==============================] - 5s 5ms/step - loss: 1.0546e-04 - accuracy: 9.9246e-05 - val_loss: 9.8743e-05 - val_accuracy: 2.0149e-04\n",
      "Epoch 68/100\n",
      "1008/1008 [==============================] - 4s 4ms/step - loss: 1.0971e-04 - accuracy: 9.9246e-05 - val_loss: 1.3115e-04 - val_accuracy: 2.0149e-04\n",
      "Epoch 69/100\n",
      "1008/1008 [==============================] - 4s 4ms/step - loss: 1.0654e-04 - accuracy: 9.9246e-05 - val_loss: 1.0345e-04 - val_accuracy: 2.0149e-04\n",
      "Epoch 70/100\n",
      "1008/1008 [==============================] - 4s 4ms/step - loss: 1.0757e-04 - accuracy: 9.9246e-05 - val_loss: 1.1119e-04 - val_accuracy: 2.0149e-04\n",
      "Epoch 71/100\n",
      "1008/1008 [==============================] - 4s 4ms/step - loss: 1.0817e-04 - accuracy: 9.9246e-05 - val_loss: 1.0450e-04 - val_accuracy: 2.0149e-04\n",
      "Epoch 72/100\n",
      "1008/1008 [==============================] - 4s 4ms/step - loss: 1.0690e-04 - accuracy: 9.9246e-05 - val_loss: 1.0486e-04 - val_accuracy: 2.0149e-04\n",
      "Epoch 73/100\n",
      "1008/1008 [==============================] - 4s 4ms/step - loss: 1.0847e-04 - accuracy: 9.9246e-05 - val_loss: 1.0365e-04 - val_accuracy: 2.0149e-04\n",
      "Epoch 74/100\n",
      "1008/1008 [==============================] - 4s 4ms/step - loss: 1.0941e-04 - accuracy: 9.9246e-05 - val_loss: 9.7509e-05 - val_accuracy: 2.0149e-04\n",
      "Epoch 75/100\n",
      "1008/1008 [==============================] - 4s 4ms/step - loss: 1.0445e-04 - accuracy: 9.9246e-05 - val_loss: 1.1842e-04 - val_accuracy: 2.0149e-04\n",
      "Epoch 76/100\n",
      "1008/1008 [==============================] - 4s 4ms/step - loss: 1.0780e-04 - accuracy: 9.9246e-05 - val_loss: 1.0891e-04 - val_accuracy: 2.0149e-04\n",
      "Epoch 77/100\n",
      "1008/1008 [==============================] - 5s 5ms/step - loss: 1.1018e-04 - accuracy: 9.9246e-05 - val_loss: 9.9731e-05 - val_accuracy: 2.0149e-04\n",
      "Epoch 78/100\n",
      "1008/1008 [==============================] - 5s 5ms/step - loss: 1.0684e-04 - accuracy: 9.9246e-05 - val_loss: 1.1159e-04 - val_accuracy: 2.0149e-04\n",
      "Epoch 79/100\n",
      "1008/1008 [==============================] - 5s 5ms/step - loss: 1.0618e-04 - accuracy: 9.9246e-05 - val_loss: 1.0192e-04 - val_accuracy: 2.0149e-04\n",
      "Epoch 80/100\n",
      "1008/1008 [==============================] - 4s 4ms/step - loss: 1.0714e-04 - accuracy: 9.9246e-05 - val_loss: 1.0198e-04 - val_accuracy: 2.0149e-04\n",
      "Epoch 81/100\n",
      "1008/1008 [==============================] - 4s 4ms/step - loss: 1.0602e-04 - accuracy: 9.9246e-05 - val_loss: 1.0108e-04 - val_accuracy: 2.0149e-04\n",
      "Epoch 82/100\n",
      "1008/1008 [==============================] - 5s 5ms/step - loss: 1.0467e-04 - accuracy: 9.9246e-05 - val_loss: 1.1187e-04 - val_accuracy: 2.0149e-04\n",
      "Epoch 83/100\n",
      "1008/1008 [==============================] - 4s 4ms/step - loss: 1.0655e-04 - accuracy: 9.9246e-05 - val_loss: 1.0228e-04 - val_accuracy: 2.0149e-04\n",
      "Epoch 84/100\n",
      "1008/1008 [==============================] - 4s 4ms/step - loss: 1.1022e-04 - accuracy: 9.9246e-05 - val_loss: 1.0293e-04 - val_accuracy: 2.0149e-04\n",
      "Epoch 85/100\n",
      "1008/1008 [==============================] - 4s 4ms/step - loss: 1.0654e-04 - accuracy: 9.9246e-05 - val_loss: 1.2042e-04 - val_accuracy: 2.0149e-04\n",
      "Epoch 86/100\n",
      "1008/1008 [==============================] - 4s 4ms/step - loss: 1.0575e-04 - accuracy: 9.9246e-05 - val_loss: 1.0077e-04 - val_accuracy: 2.0149e-04\n",
      "Epoch 87/100\n",
      "1008/1008 [==============================] - 4s 4ms/step - loss: 1.0603e-04 - accuracy: 9.9246e-05 - val_loss: 1.0272e-04 - val_accuracy: 2.0149e-04\n",
      "Epoch 88/100\n",
      "1008/1008 [==============================] - 4s 4ms/step - loss: 1.0945e-04 - accuracy: 9.9246e-05 - val_loss: 1.1329e-04 - val_accuracy: 2.0149e-04\n",
      "Epoch 89/100\n",
      "1008/1008 [==============================] - 4s 4ms/step - loss: 1.0933e-04 - accuracy: 9.9246e-05 - val_loss: 1.0739e-04 - val_accuracy: 2.0149e-04\n",
      "Epoch 90/100\n",
      "1008/1008 [==============================] - 4s 4ms/step - loss: 1.0959e-04 - accuracy: 9.9246e-05 - val_loss: 9.8571e-05 - val_accuracy: 2.0149e-04\n",
      "Epoch 91/100\n",
      "1008/1008 [==============================] - 4s 4ms/step - loss: 1.0644e-04 - accuracy: 9.9246e-05 - val_loss: 1.5359e-04 - val_accuracy: 2.0149e-04\n",
      "Epoch 92/100\n",
      "1008/1008 [==============================] - 4s 4ms/step - loss: 1.0800e-04 - accuracy: 9.9246e-05 - val_loss: 1.0383e-04 - val_accuracy: 2.0149e-04\n",
      "Epoch 93/100\n",
      "1008/1008 [==============================] - 4s 4ms/step - loss: 1.0832e-04 - accuracy: 9.9246e-05 - val_loss: 1.3539e-04 - val_accuracy: 2.0149e-04\n",
      "Epoch 94/100\n",
      "1008/1008 [==============================] - 4s 4ms/step - loss: 1.0858e-04 - accuracy: 9.9246e-05 - val_loss: 9.7536e-05 - val_accuracy: 2.0149e-04\n",
      "Epoch 95/100\n",
      "1008/1008 [==============================] - 4s 4ms/step - loss: 1.0667e-04 - accuracy: 9.9246e-05 - val_loss: 1.0127e-04 - val_accuracy: 2.0149e-04\n",
      "Epoch 96/100\n",
      "1008/1008 [==============================] - 4s 4ms/step - loss: 1.0657e-04 - accuracy: 9.9246e-05 - val_loss: 1.0095e-04 - val_accuracy: 2.0149e-04\n",
      "Epoch 97/100\n",
      "1008/1008 [==============================] - 4s 4ms/step - loss: 1.0744e-04 - accuracy: 9.9246e-05 - val_loss: 9.9977e-05 - val_accuracy: 2.0149e-04\n",
      "Epoch 98/100\n",
      "1008/1008 [==============================] - 4s 4ms/step - loss: 1.0739e-04 - accuracy: 9.9246e-05 - val_loss: 9.7405e-05 - val_accuracy: 2.0149e-04\n",
      "Epoch 99/100\n",
      "1008/1008 [==============================] - 4s 4ms/step - loss: 1.0580e-04 - accuracy: 9.9246e-05 - val_loss: 9.7852e-05 - val_accuracy: 2.0149e-04\n",
      "Epoch 100/100\n",
      "1008/1008 [==============================] - 4s 4ms/step - loss: 1.0751e-04 - accuracy: 9.9246e-05 - val_loss: 1.3111e-04 - val_accuracy: 2.0149e-04\n"
     ]
    }
   ],
   "source": [
    "history = model.fit(X,Y, validation_split = 0.33, epochs=100, batch_size = 10)"
   ]
  },
  {
   "cell_type": "code",
   "execution_count": 20,
   "metadata": {},
   "outputs": [
    {
     "data": {
      "text/plain": [
       "dict_keys(['loss', 'accuracy', 'val_loss', 'val_accuracy'])"
      ]
     },
     "execution_count": 20,
     "metadata": {},
     "output_type": "execute_result"
    }
   ],
   "source": [
    "model.history.history.keys()"
   ]
  },
  {
   "cell_type": "code",
   "execution_count": 21,
   "metadata": {},
   "outputs": [
    {
     "data": {
      "image/png": "[encoded data removed]",
      "text/plain": [
       "<Figure size 432x288 with 1 Axes>"
      ]
     },
     "metadata": {
      "needs_background": "light"
     },
     "output_type": "display_data"
    },
    {
     "data": {
      "image/png": "[encoded data removed]",
      "text/plain": [
       "<Figure size 432x288 with 1 Axes>"
      ]
     },
     "metadata": {
      "needs_background": "light"
     },
     "output_type": "display_data"
    }
   ],
   "source": [
    "# summarize history for accuracy\n",
    "plt.plot(history.history['accuracy'])\n",
    "plt.plot(history.history['val_accuracy'])\n",
    "plt.title('model accuracy')\n",
    "plt.ylabel('accuracy')\n",
    "plt.xlabel('epoch')\n",
    "plt.legend(['train','test'], loc= 'upper left')\n",
    "plt.show()\n",
    "\n",
    "# summarize history for loss\n",
    "plt.plot(history.history['loss'])\n",
    "plt.plot(history.history['val_loss'])\n",
    "plt.title('model loss')\n",
    "plt.ylabel('loss')\n",
    "plt.xlabel('epoch')\n",
    "plt.legend(['train','test'], loc = 'upper left')\n",
    "plt.show()"
   ]
  },
  {
   "cell_type": "markdown",
   "metadata": {},
   "source": [
    "### Tuning of Hyperparameters:- Batch Size and Epochs"
   ]
  },
  {
   "cell_type": "code",
   "execution_count": 22,
   "metadata": {
    "scrolled": false
   },
   "outputs": [],
   "source": [
    "from sklearn.model_selection import GridSearchCV, KFold\n",
    "from keras.wrappers.scikit_learn import KerasClassifier\n",
    "from keras.optimizers import Adam"
   ]
  },
  {
   "cell_type": "code",
   "execution_count": 23,
   "metadata": {},
   "outputs": [],
   "source": [
    "def create_model():\n",
    "    model = Sequential()\n",
    "    model.add(Dense(12, input_dim = 10, kernel_initializer = 'uniform', activation = 'relu'))\n",
    "    model.add(Dense(8,  kernel_initializer = 'uniform', activation = 'relu'))\n",
    "    model.add(Dense(1,  kernel_initializer = 'uniform', activation = 'linear'))\n",
    "    \n",
    "    adam = Adam(lr = 0.01)\n",
    "    model.compile(loss='mse', optimizer=adam, metrics=['accuracy'])\n",
    "    return model\n"
   ]
  },
  {
   "cell_type": "code",
   "execution_count": 24,
   "metadata": {},
   "outputs": [
    {
     "name": "stdout",
     "output_type": "stream",
     "text": [
      "Fitting 5 folds for each of 9 candidates, totalling 45 fits\n",
      "[CV] batch_size=10, epochs=10 ........................................\n"
     ]
    },
    {
     "name": "stderr",
     "output_type": "stream",
     "text": [
      "[Parallel(n_jobs=1)]: Using backend SequentialBackend with 1 concurrent workers.\n"
     ]
    },
    {
     "name": "stdout",
     "output_type": "stream",
     "text": [
      "[CV] ............ batch_size=10, epochs=10, score=0.000, total=  26.3s\n",
      "[CV] batch_size=10, epochs=10 ........................................\n"
     ]
    },
    {
     "name": "stderr",
     "output_type": "stream",
     "text": [
      "[Parallel(n_jobs=1)]: Done   1 out of   1 | elapsed:   26.2s remaining:    0.0s\n"
     ]
    },
    {
     "name": "stdout",
     "output_type": "stream",
     "text": [
      "[CV] ............ batch_size=10, epochs=10, score=0.000, total=  26.8s\n",
      "[CV] batch_size=10, epochs=10 ........................................\n"
     ]
    },
    {
     "name": "stderr",
     "output_type": "stream",
     "text": [
      "[Parallel(n_jobs=1)]: Done   2 out of   2 | elapsed:   53.0s remaining:    0.0s\n"
     ]
    },
    {
     "name": "stdout",
     "output_type": "stream",
     "text": [
      "[CV] ............ batch_size=10, epochs=10, score=0.000, total=  27.4s\n",
      "[CV] batch_size=10, epochs=10 ........................................\n"
     ]
    },
    {
     "name": "stderr",
     "output_type": "stream",
     "text": [
      "[Parallel(n_jobs=1)]: Done   3 out of   3 | elapsed:  1.3min remaining:    0.0s\n"
     ]
    },
    {
     "name": "stdout",
     "output_type": "stream",
     "text": [
      "[CV] ............ batch_size=10, epochs=10, score=0.000, total=  25.8s\n",
      "[CV] batch_size=10, epochs=10 ........................................\n"
     ]
    },
    {
     "name": "stderr",
     "output_type": "stream",
     "text": [
      "[Parallel(n_jobs=1)]: Done   4 out of   4 | elapsed:  1.8min remaining:    0.0s\n"
     ]
    },
    {
     "name": "stdout",
     "output_type": "stream",
     "text": [
      "[CV] ............ batch_size=10, epochs=10, score=0.000, total=  25.6s\n",
      "[CV] batch_size=10, epochs=50 ........................................\n"
     ]
    },
    {
     "name": "stderr",
     "output_type": "stream",
     "text": [
      "[Parallel(n_jobs=1)]: Done   5 out of   5 | elapsed:  2.2min remaining:    0.0s\n"
     ]
    },
    {
     "name": "stdout",
     "output_type": "stream",
     "text": [
      "[CV] ............ batch_size=10, epochs=50, score=0.000, total= 2.0min\n",
      "[CV] batch_size=10, epochs=50 ........................................\n"
     ]
    },
    {
     "name": "stderr",
     "output_type": "stream",
     "text": [
      "[Parallel(n_jobs=1)]: Done   6 out of   6 | elapsed:  4.2min remaining:    0.0s\n"
     ]
    },
    {
     "name": "stdout",
     "output_type": "stream",
     "text": [
      "[CV] ............ batch_size=10, epochs=50, score=0.000, total= 1.8min\n",
      "[CV] batch_size=10, epochs=50 ........................................\n"
     ]
    },
    {
     "name": "stderr",
     "output_type": "stream",
     "text": [
      "[Parallel(n_jobs=1)]: Done   7 out of   7 | elapsed:  6.0min remaining:    0.0s\n"
     ]
    },
    {
     "name": "stdout",
     "output_type": "stream",
     "text": [
      "[CV] ............ batch_size=10, epochs=50, score=0.000, total= 1.7min\n",
      "[CV] batch_size=10, epochs=50 ........................................\n"
     ]
    },
    {
     "name": "stderr",
     "output_type": "stream",
     "text": [
      "[Parallel(n_jobs=1)]: Done   8 out of   8 | elapsed:  7.7min remaining:    0.0s\n"
     ]
    },
    {
     "name": "stdout",
     "output_type": "stream",
     "text": [
      "[CV] ............ batch_size=10, epochs=50, score=0.000, total= 2.1min\n",
      "[CV] batch_size=10, epochs=50 ........................................\n"
     ]
    },
    {
     "name": "stderr",
     "output_type": "stream",
     "text": [
      "[Parallel(n_jobs=1)]: Done   9 out of   9 | elapsed:  9.8min remaining:    0.0s\n"
     ]
    },
    {
     "name": "stdout",
     "output_type": "stream",
     "text": [
      "[CV] ............ batch_size=10, epochs=50, score=0.000, total= 2.0min\n",
      "[CV] batch_size=10, epochs=100 .......................................\n",
      "[CV] ........... batch_size=10, epochs=100, score=0.000, total= 3.9min\n",
      "[CV] batch_size=10, epochs=100 .......................................\n",
      "[CV] ........... batch_size=10, epochs=100, score=0.000, total= 4.1min\n",
      "[CV] batch_size=10, epochs=100 .......................................\n",
      "[CV] ........... batch_size=10, epochs=100, score=0.000, total= 3.9min\n",
      "[CV] batch_size=10, epochs=100 .......................................\n",
      "[CV] ........... batch_size=10, epochs=100, score=0.000, total= 3.6min\n",
      "[CV] batch_size=10, epochs=100 .......................................\n",
      "[CV] ........... batch_size=10, epochs=100, score=0.000, total= 3.0min\n",
      "[CV] batch_size=20, epochs=10 ........................................\n",
      "[CV] ............ batch_size=20, epochs=10, score=0.000, total=  10.8s\n",
      "[CV] batch_size=20, epochs=10 ........................................\n",
      "[CV] ............ batch_size=20, epochs=10, score=0.000, total=  11.6s\n",
      "[CV] batch_size=20, epochs=10 ........................................\n",
      "[CV] ............ batch_size=20, epochs=10, score=0.000, total=  14.3s\n",
      "[CV] batch_size=20, epochs=10 ........................................\n",
      "[CV] ............ batch_size=20, epochs=10, score=0.000, total=  16.4s\n",
      "[CV] batch_size=20, epochs=10 ........................................\n",
      "[CV] ............ batch_size=20, epochs=10, score=0.000, total=  17.9s\n",
      "[CV] batch_size=20, epochs=50 ........................................\n",
      "[CV] ............ batch_size=20, epochs=50, score=0.000, total=  49.2s\n",
      "[CV] batch_size=20, epochs=50 ........................................\n",
      "[CV] ............ batch_size=20, epochs=50, score=0.000, total=  43.6s\n",
      "[CV] batch_size=20, epochs=50 ........................................\n",
      "[CV] ............ batch_size=20, epochs=50, score=0.000, total=  42.9s\n",
      "[CV] batch_size=20, epochs=50 ........................................\n",
      "[CV] ............ batch_size=20, epochs=50, score=0.000, total=  43.6s\n",
      "[CV] batch_size=20, epochs=50 ........................................\n",
      "[CV] ............ batch_size=20, epochs=50, score=0.000, total=  43.8s\n",
      "[CV] batch_size=20, epochs=100 .......................................\n",
      "[CV] ........... batch_size=20, epochs=100, score=0.000, total= 1.4min\n",
      "[CV] batch_size=20, epochs=100 .......................................\n",
      "[CV] ........... batch_size=20, epochs=100, score=0.000, total= 1.5min\n",
      "[CV] batch_size=20, epochs=100 .......................................\n",
      "[CV] ........... batch_size=20, epochs=100, score=0.000, total= 1.5min\n",
      "[CV] batch_size=20, epochs=100 .......................................\n",
      "[CV] ........... batch_size=20, epochs=100, score=0.000, total= 1.4min\n",
      "[CV] batch_size=20, epochs=100 .......................................\n",
      "[CV] ........... batch_size=20, epochs=100, score=0.000, total= 1.4min\n",
      "[CV] batch_size=40, epochs=10 ........................................\n",
      "[CV] ............ batch_size=40, epochs=10, score=0.000, total=   6.0s\n",
      "[CV] batch_size=40, epochs=10 ........................................\n",
      "[CV] ............ batch_size=40, epochs=10, score=0.000, total=   6.0s\n",
      "[CV] batch_size=40, epochs=10 ........................................\n",
      "[CV] ............ batch_size=40, epochs=10, score=0.000, total=   6.5s\n",
      "[CV] batch_size=40, epochs=10 ........................................\n",
      "[CV] ............ batch_size=40, epochs=10, score=0.000, total=   6.0s\n",
      "[CV] batch_size=40, epochs=10 ........................................\n",
      "[CV] ............ batch_size=40, epochs=10, score=0.000, total=   6.0s\n",
      "[CV] batch_size=40, epochs=50 ........................................\n",
      "[CV] ............ batch_size=40, epochs=50, score=0.000, total=  22.6s\n",
      "[CV] batch_size=40, epochs=50 ........................................\n",
      "[CV] ............ batch_size=40, epochs=50, score=0.000, total=  23.0s\n",
      "[CV] batch_size=40, epochs=50 ........................................\n",
      "[CV] ............ batch_size=40, epochs=50, score=0.000, total=  23.1s\n",
      "[CV] batch_size=40, epochs=50 ........................................\n",
      "[CV] ............ batch_size=40, epochs=50, score=0.000, total=  22.5s\n",
      "[CV] batch_size=40, epochs=50 ........................................\n",
      "[CV] ............ batch_size=40, epochs=50, score=0.000, total=  22.8s\n",
      "[CV] batch_size=40, epochs=100 .......................................\n",
      "[CV] ........... batch_size=40, epochs=100, score=0.000, total=  43.6s\n",
      "[CV] batch_size=40, epochs=100 .......................................\n",
      "[CV] ........... batch_size=40, epochs=100, score=0.000, total=  43.4s\n",
      "[CV] batch_size=40, epochs=100 .......................................\n",
      "[CV] ........... batch_size=40, epochs=100, score=0.000, total=  44.0s\n",
      "[CV] batch_size=40, epochs=100 .......................................\n",
      "[CV] ........... batch_size=40, epochs=100, score=0.000, total=  43.6s\n",
      "[CV] batch_size=40, epochs=100 .......................................\n",
      "[CV] ........... batch_size=40, epochs=100, score=0.000, total=  55.3s\n"
     ]
    },
    {
     "name": "stderr",
     "output_type": "stream",
     "text": [
      "[Parallel(n_jobs=1)]: Done  45 out of  45 | elapsed: 48.7min finished\n"
     ]
    }
   ],
   "source": [
    "model = KerasClassifier(build_fn = create_model, verbose = 0)\n",
    "batch_size = [10,20,40]\n",
    "epochs = [10,50,100]\n",
    "param_grid = dict(batch_size = batch_size, epochs = epochs)\n",
    "grid = GridSearchCV(estimator = model, param_grid = param_grid, cv = KFold(), verbose = 10)\n",
    "grid_result = grid.fit(X,Y)"
   ]
  },
  {
   "cell_type": "code",
   "execution_count": null,
   "metadata": {},
   "outputs": [],
   "source": []
  }
 ],
 "metadata": {
  "kernelspec": {
   "display_name": "Python 3",
   "language": "python",
   "name": "python3"
  },
  "language_info": {
   "codemirror_mode": {
    "name": "ipython",
    "version": 3
   },
   "file_extension": ".py",
   "mimetype": "text/x-python",
   "name": "python",
   "nbconvert_exporter": "python",
   "pygments_lexer": "ipython3",
   "version": "3.8.8"
  },
  "varInspector": {
   "cols": {
    "lenName": 16,
    "lenType": 16,
    "lenVar": 40
   },
   "kernels_config": {
    "python": {
     "delete_cmd_postfix": "",
     "delete_cmd_prefix": "del ",
     "library": "var_list.py",
     "varRefreshCmd": "print(var_dic_list())"
    },
    "r": {
     "delete_cmd_postfix": ") ",
     "delete_cmd_prefix": "rm(",
     "library": "var_list.r",
     "varRefreshCmd": "cat(var_dic_list()) "
    }
   },
   "types_to_exclude": [
    "module",
    "function",
    "builtin_function_or_method",
    "instance",
    "_Feature"
   ],
   "window_display": false
  }
 },
 "nbformat": 4,
 "nbformat_minor": 4
}
